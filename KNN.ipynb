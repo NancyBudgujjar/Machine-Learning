{
  "nbformat": 4,
  "nbformat_minor": 0,
  "metadata": {
    "colab": {
      "provenance": [],
      "authorship_tag": "ABX9TyPclzu2AlZXasBQoLoIv/tb",
      "include_colab_link": true
    },
    "kernelspec": {
      "name": "python3",
      "display_name": "Python 3"
    },
    "language_info": {
      "name": "python"
    }
  },
  "cells": [
    {
      "cell_type": "markdown",
      "metadata": {
        "id": "view-in-github",
        "colab_type": "text"
      },
      "source": [
        "<a href=\"https://colab.research.google.com/github/NancyBudgujjar/Machine-Learning/blob/main/KNN.ipynb\" target=\"_parent\"><img src=\"https://colab.research.google.com/assets/colab-badge.svg\" alt=\"Open In Colab\"/></a>"
      ]
    },
    {
      "cell_type": "code",
      "execution_count": 48,
      "metadata": {
        "id": "u1B8bCtVyVZE"
      },
      "outputs": [],
      "source": [
        "import numpy as np # linear algebra\n",
        "import pandas as pd # data processing, CSV file I/O (e.g. pd.read_csv)\n",
        "import matplotlib.pyplot as plt\n",
        "import math"
      ]
    },
    {
      "cell_type": "code",
      "source": [
        "from google.colab import drive\n",
        "drive.mount('/content/drive')"
      ],
      "metadata": {
        "id": "bTiW3o_qzdmY",
        "colab": {
          "base_uri": "https://localhost:8080/"
        },
        "outputId": "4e15fb1e-c4ea-4784-822f-99fbe57aa320"
      },
      "execution_count": 19,
      "outputs": [
        {
          "output_type": "stream",
          "name": "stdout",
          "text": [
            "Drive already mounted at /content/drive; to attempt to forcibly remount, call drive.mount(\"/content/drive\", force_remount=True).\n"
          ]
        }
      ]
    },
    {
      "cell_type": "code",
      "source": [
        "df = pd.read_csv('/content/drive/MyDrive/project/titanic/train.csv')\n",
        "df.columns "
      ],
      "metadata": {
        "id": "MHXTv9QMzdcW",
        "colab": {
          "base_uri": "https://localhost:8080/"
        },
        "outputId": "fa6e10c4-a9de-4c61-e0b7-466e25444bc6"
      },
      "execution_count": 20,
      "outputs": [
        {
          "output_type": "execute_result",
          "data": {
            "text/plain": [
              "Index(['PassengerId', 'Survived', 'Pclass', 'Name', 'Sex', 'Age', 'SibSp',\n",
              "       'Parch', 'Ticket', 'Fare', 'Cabin', 'Embarked'],\n",
              "      dtype='object')"
            ]
          },
          "metadata": {},
          "execution_count": 20
        }
      ]
    },
    {
      "cell_type": "code",
      "source": [
        "# calculate the Euclidean distance between two vectors\n",
        "def euclidean_distance(row1, row2):\n",
        " distance = 0.0\n",
        " for i in range(len(row1)-1):\n",
        "  distance += (row1[i] - row2[i])**2\n",
        "  return sqrt(distance)"
      ],
      "metadata": {
        "id": "u_ykE7EC-c7V"
      },
      "execution_count": 35,
      "outputs": []
    },
    {
      "cell_type": "code",
      "source": [
        "# Locate the most similar neighbors\n",
        "def get_neighbors(train, test_row, num_neighbors):\n",
        " distances = list()\n",
        " for train_row in train:\n",
        "  dist = euclidean_distance(test_row, train_row)\n",
        "  distances.append((train_row, dist))\n",
        "  distances.sort(key=lambda tup: tup[1])\n",
        "  neighbors = list()\n",
        " for i in range(num_neighbors):\n",
        "  neighbors.append(distances[i][0])\n",
        " return neighbors"
      ],
      "metadata": {
        "id": "28HzNdAY_Euu"
      },
      "execution_count": 37,
      "outputs": []
    },
    {
      "cell_type": "code",
      "source": [
        "# Make a classification prediction with neighbors\n",
        "def predict_classification(train, test_row, num_neighbors):\n",
        " neighbors = get_neighbors(train, test_row, num_neighbors)\n",
        " output_values = [row[-1] for row in neighbors]\n",
        " prediction = max(set(output_values), key=output_values.count)\n",
        " return prediction"
      ],
      "metadata": {
        "id": "TvHzNCUA_Xif"
      },
      "execution_count": 38,
      "outputs": []
    },
    {
      "cell_type": "code",
      "source": [
        "# Convert string column to float\n",
        "def str_column_to_float(dataset, column):\n",
        " for row in dataset:\n",
        "  row[column] = float(row[column].strip())\n",
        " \n",
        "# Convert string column to integer\n",
        "def str_column_to_int(dataset, column):\n",
        " class_values = [row[column] for row in dataset]\n",
        " unique = set(class_values)\n",
        " lookup = dict()\n",
        " for i, value in enumerate(unique):\n",
        "  lookup[value] = i\n",
        " for row in dataset:\n",
        "  row[column] = lookup[row[column]]\n",
        " return lookup\n",
        " \n",
        "# Find the min and max values for each column\n",
        "def dataset_minmax(dataset):\n",
        " minmax = list()\n",
        " for i in range(len(dataset[0])):\n",
        "  col_values = [row[i] for row in dataset]\n",
        "  value_min = min(col_values)\n",
        "  value_max = max(col_values)\n",
        "  minmax.append([value_min, value_max])\n",
        " return minmax\n",
        " \n",
        "# Rescale dataset columns to the range 0-1\n",
        "def normalize_dataset(dataset, minmax):\n",
        " for row in dataset:\n",
        "  for i in range(len(row)):\n",
        "    row[i] = (row[i] - minmax[i][0]) / (minmax[i][1] - minmax[i][0])\n",
        " \n",
        "# Split a dataset into k folds\n",
        "def cross_validation_split(dataset, n_folds):\n",
        " dataset_split = list()\n",
        " dataset_copy = list(dataset)\n",
        " fold_size = int(len(dataset) / n_folds)\n",
        " for _ in range(n_folds):\n",
        "  fold = list()\n",
        " while len(fold) < fold_size:\n",
        "  index = randrange(len(dataset_copy))\n",
        "  fold.append(dataset_copy.pop(index))\n",
        "  dataset_split.append(fold)\n",
        " return dataset_split\n",
        " \n",
        "# Calculate accuracy percentage\n",
        "def accuracy_metric(actual, predicted):\n",
        " correct = 0\n",
        " for i in range(len(actual)):\n",
        "  if actual[i] == predicted[i]:\n",
        "    correct += 1\n",
        " return correct / float(len(actual)) * 100.0\n",
        " \n",
        "# Evaluate an algorithm using a cross validation split\n",
        "def evaluate_algorithm(dataset, algorithm, n_folds, *args):\n",
        " folds = cross_validation_split(dataset, n_folds)\n",
        " scores = list()\n",
        " for fold in folds:\n",
        "  train_set = list(folds)\n",
        "  train_set.remove(fold)\n",
        "  train_set = sum(train_set, [])\n",
        "  test_set = list()\n",
        " for row in fold:\n",
        "  row_copy = list(row)\n",
        "  test_set.append(row_copy)\n",
        "  row_copy[-1] = None\n",
        "  predicted = algorithm(train_set, test_set, *args)\n",
        "  actual = [row[-1] for row in fold]\n",
        "  accuracy = accuracy_metric(actual, predicted)\n",
        "  scores.append(accuracy)\n",
        " return scores\n",
        " \n",
        "# Calculate the Euclidean distance between two vectors\n",
        "def euclidean_distance(row1, row2):\n",
        " distance = 0.0\n",
        " for i in range(len(row1)-1):\n",
        "  distance += (row1[i] - row2[i])**2\n",
        " return sqrt(distance)\n",
        " \n",
        "# Locate the most similar neighbors\n",
        "def get_neighbors(train, test_row, num_neighbors):\n",
        " distances = list()\n",
        " for train_row in train:\n",
        "  dist = euclidean_distance(test_row, train_row)\n",
        "  distances.append((train_row, dist))\n",
        "  distances.sort(key=lambda tup: tup[1])\n",
        "  neighbors = list()\n",
        " for i in range(num_neighbors):\n",
        "  neighbors.append(distances[i][0])\n",
        " return neighbors\n",
        " \n",
        "# Make a prediction with neighbors\n",
        "def predict_classification(train, test_row, num_neighbors):\n",
        " neighbors = get_neighbors(train, test_row, num_neighbors)\n",
        " output_values = [row[-1] for row in neighbors]\n",
        " prediction = max(set(output_values), key=output_values.count)\n",
        " return prediction\n",
        " \n",
        "# kNN Algorithm\n",
        "def k_nearest_neighbors(train, test, num_neighbors):\n",
        " predictions = list()\n",
        " for row in test:\n",
        "  output = predict_classification(train, row, num_neighbors)\n",
        "  predictions.append(output)\n",
        " return(predictions)\n",
        " \n",
        "\n",
        "n_folds = 5\n",
        "num_neighbors = 5\n",
        "scores = evaluate_algorithm(df, k_nearest_neighbors, n_folds, num_neighbors)\n",
        "print('Scores: %s' % scores)\n",
        "print('Mean Accuracy: %.3f%%' % (sum(scores)/float(len(scores))))"
      ],
      "metadata": {
        "id": "kSlExcugAQxt"
      },
      "execution_count": null,
      "outputs": []
    }
  ]
}